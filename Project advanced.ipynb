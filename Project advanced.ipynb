{
 "cells": [
  {
   "cell_type": "code",
   "execution_count": 3,
   "metadata": {},
   "outputs": [],
   "source": [
    "import os\n",
    "import pandas as pd\n",
    "import numpy as np\n",
    "import matplotlib.pyplot as plt\n",
    "import scipy as sp"
   ]
  },
  {
   "cell_type": "code",
   "execution_count": 4,
   "metadata": {},
   "outputs": [
    {
     "data": {
      "text/plain": [
       "'C:\\\\Users\\\\Phanith Daruvuri\\\\Desktop\\\\ML'"
      ]
     },
     "execution_count": 4,
     "metadata": {},
     "output_type": "execute_result"
    }
   ],
   "source": [
    "os.getcwd()"
   ]
  },
  {
   "cell_type": "code",
   "execution_count": 5,
   "metadata": {},
   "outputs": [],
   "source": [
    "os.chdir(\"C:\\\\Users\\\\Phanith Daruvuri\\\\Desktop\\\\ML\\\\Datasets\")"
   ]
  },
  {
   "cell_type": "code",
   "execution_count": 6,
   "metadata": {},
   "outputs": [
    {
     "data": {
      "text/plain": [
       "'C:\\\\Users\\\\Phanith Daruvuri\\\\Desktop\\\\ML\\\\Datasets'"
      ]
     },
     "execution_count": 6,
     "metadata": {},
     "output_type": "execute_result"
    }
   ],
   "source": [
    "os.getcwd()"
   ]
  },
  {
   "cell_type": "code",
   "execution_count": 38,
   "metadata": {},
   "outputs": [],
   "source": [
    "df=pd.read_csv('TCS.csv')"
   ]
  },
  {
   "cell_type": "code",
   "execution_count": 39,
   "metadata": {},
   "outputs": [
    {
     "data": {
      "text/plain": [
       "pandas.core.frame.DataFrame"
      ]
     },
     "execution_count": 39,
     "metadata": {},
     "output_type": "execute_result"
    }
   ],
   "source": [
    "type(df)"
   ]
  },
  {
   "cell_type": "code",
   "execution_count": 40,
   "metadata": {},
   "outputs": [
    {
     "data": {
      "text/html": [
       "<div>\n",
       "<style scoped>\n",
       "    .dataframe tbody tr th:only-of-type {\n",
       "        vertical-align: middle;\n",
       "    }\n",
       "\n",
       "    .dataframe tbody tr th {\n",
       "        vertical-align: top;\n",
       "    }\n",
       "\n",
       "    .dataframe thead th {\n",
       "        text-align: right;\n",
       "    }\n",
       "</style>\n",
       "<table border=\"1\" class=\"dataframe\">\n",
       "  <thead>\n",
       "    <tr style=\"text-align: right;\">\n",
       "      <th></th>\n",
       "      <th>Date</th>\n",
       "      <th>Open</th>\n",
       "      <th>High</th>\n",
       "      <th>Low</th>\n",
       "      <th>Close</th>\n",
       "      <th>Adj Close</th>\n",
       "      <th>Volume</th>\n",
       "    </tr>\n",
       "  </thead>\n",
       "  <tbody>\n",
       "    <tr>\n",
       "      <td>0</td>\n",
       "      <td>2015-05-26</td>\n",
       "      <td>1302.500000</td>\n",
       "      <td>1311.619995</td>\n",
       "      <td>1294.449951</td>\n",
       "      <td>1304.430054</td>\n",
       "      <td>1124.342773</td>\n",
       "      <td>1961740.0</td>\n",
       "    </tr>\n",
       "    <tr>\n",
       "      <td>1</td>\n",
       "      <td>2015-05-27</td>\n",
       "      <td>1304.000000</td>\n",
       "      <td>1316.569946</td>\n",
       "      <td>1296.000000</td>\n",
       "      <td>1307.619995</td>\n",
       "      <td>1127.092529</td>\n",
       "      <td>1620690.0</td>\n",
       "    </tr>\n",
       "    <tr>\n",
       "      <td>2</td>\n",
       "      <td>2015-05-28</td>\n",
       "      <td>1301.949951</td>\n",
       "      <td>1311.500000</td>\n",
       "      <td>1291.119995</td>\n",
       "      <td>1304.750000</td>\n",
       "      <td>1124.618530</td>\n",
       "      <td>2763608.0</td>\n",
       "    </tr>\n",
       "    <tr>\n",
       "      <td>3</td>\n",
       "      <td>2015-05-29</td>\n",
       "      <td>1308.500000</td>\n",
       "      <td>1324.300049</td>\n",
       "      <td>1298.619995</td>\n",
       "      <td>1305.150024</td>\n",
       "      <td>1124.963257</td>\n",
       "      <td>4423532.0</td>\n",
       "    </tr>\n",
       "    <tr>\n",
       "      <td>4</td>\n",
       "      <td>2015-06-01</td>\n",
       "      <td>1304.719971</td>\n",
       "      <td>1323.550049</td>\n",
       "      <td>1304.180054</td>\n",
       "      <td>1308.880005</td>\n",
       "      <td>1128.178467</td>\n",
       "      <td>882264.0</td>\n",
       "    </tr>\n",
       "    <tr>\n",
       "      <td>...</td>\n",
       "      <td>...</td>\n",
       "      <td>...</td>\n",
       "      <td>...</td>\n",
       "      <td>...</td>\n",
       "      <td>...</td>\n",
       "      <td>...</td>\n",
       "      <td>...</td>\n",
       "    </tr>\n",
       "    <tr>\n",
       "      <td>1224</td>\n",
       "      <td>2020-05-18</td>\n",
       "      <td>1907.000000</td>\n",
       "      <td>1952.949951</td>\n",
       "      <td>1872.099976</td>\n",
       "      <td>1945.599976</td>\n",
       "      <td>1945.599976</td>\n",
       "      <td>3727694.0</td>\n",
       "    </tr>\n",
       "    <tr>\n",
       "      <td>1225</td>\n",
       "      <td>2020-05-19</td>\n",
       "      <td>1903.000000</td>\n",
       "      <td>1966.449951</td>\n",
       "      <td>1903.000000</td>\n",
       "      <td>1948.650024</td>\n",
       "      <td>1948.650024</td>\n",
       "      <td>3198693.0</td>\n",
       "    </tr>\n",
       "    <tr>\n",
       "      <td>1226</td>\n",
       "      <td>2020-05-20</td>\n",
       "      <td>1950.000000</td>\n",
       "      <td>1962.900024</td>\n",
       "      <td>1931.699951</td>\n",
       "      <td>1953.599976</td>\n",
       "      <td>1953.599976</td>\n",
       "      <td>2778505.0</td>\n",
       "    </tr>\n",
       "    <tr>\n",
       "      <td>1227</td>\n",
       "      <td>2020-05-21</td>\n",
       "      <td>1946.000000</td>\n",
       "      <td>1998.000000</td>\n",
       "      <td>1941.150024</td>\n",
       "      <td>1991.199951</td>\n",
       "      <td>1991.199951</td>\n",
       "      <td>3400908.0</td>\n",
       "    </tr>\n",
       "    <tr>\n",
       "      <td>1228</td>\n",
       "      <td>2020-05-22</td>\n",
       "      <td>1977.099976</td>\n",
       "      <td>2032.000000</td>\n",
       "      <td>1961.250000</td>\n",
       "      <td>2020.349976</td>\n",
       "      <td>2020.349976</td>\n",
       "      <td>3663418.0</td>\n",
       "    </tr>\n",
       "  </tbody>\n",
       "</table>\n",
       "<p>1229 rows × 7 columns</p>\n",
       "</div>"
      ],
      "text/plain": [
       "            Date         Open         High          Low        Close  \\\n",
       "0     2015-05-26  1302.500000  1311.619995  1294.449951  1304.430054   \n",
       "1     2015-05-27  1304.000000  1316.569946  1296.000000  1307.619995   \n",
       "2     2015-05-28  1301.949951  1311.500000  1291.119995  1304.750000   \n",
       "3     2015-05-29  1308.500000  1324.300049  1298.619995  1305.150024   \n",
       "4     2015-06-01  1304.719971  1323.550049  1304.180054  1308.880005   \n",
       "...          ...          ...          ...          ...          ...   \n",
       "1224  2020-05-18  1907.000000  1952.949951  1872.099976  1945.599976   \n",
       "1225  2020-05-19  1903.000000  1966.449951  1903.000000  1948.650024   \n",
       "1226  2020-05-20  1950.000000  1962.900024  1931.699951  1953.599976   \n",
       "1227  2020-05-21  1946.000000  1998.000000  1941.150024  1991.199951   \n",
       "1228  2020-05-22  1977.099976  2032.000000  1961.250000  2020.349976   \n",
       "\n",
       "        Adj Close     Volume  \n",
       "0     1124.342773  1961740.0  \n",
       "1     1127.092529  1620690.0  \n",
       "2     1124.618530  2763608.0  \n",
       "3     1124.963257  4423532.0  \n",
       "4     1128.178467   882264.0  \n",
       "...           ...        ...  \n",
       "1224  1945.599976  3727694.0  \n",
       "1225  1948.650024  3198693.0  \n",
       "1226  1953.599976  2778505.0  \n",
       "1227  1991.199951  3400908.0  \n",
       "1228  2020.349976  3663418.0  \n",
       "\n",
       "[1229 rows x 7 columns]"
      ]
     },
     "execution_count": 40,
     "metadata": {},
     "output_type": "execute_result"
    }
   ],
   "source": [
    "df"
   ]
  },
  {
   "cell_type": "code",
   "execution_count": 10,
   "metadata": {},
   "outputs": [
    {
     "data": {
      "text/html": [
       "<div>\n",
       "<style scoped>\n",
       "    .dataframe tbody tr th:only-of-type {\n",
       "        vertical-align: middle;\n",
       "    }\n",
       "\n",
       "    .dataframe tbody tr th {\n",
       "        vertical-align: top;\n",
       "    }\n",
       "\n",
       "    .dataframe thead th {\n",
       "        text-align: right;\n",
       "    }\n",
       "</style>\n",
       "<table border=\"1\" class=\"dataframe\">\n",
       "  <thead>\n",
       "    <tr style=\"text-align: right;\">\n",
       "      <th></th>\n",
       "      <th>Date</th>\n",
       "      <th>Open</th>\n",
       "      <th>High</th>\n",
       "      <th>Low</th>\n",
       "      <th>Close</th>\n",
       "      <th>Adj Close</th>\n",
       "      <th>Volume</th>\n",
       "    </tr>\n",
       "  </thead>\n",
       "  <tbody>\n",
       "    <tr>\n",
       "      <td>0</td>\n",
       "      <td>2015-05-26</td>\n",
       "      <td>1302.5</td>\n",
       "      <td>1311.619995</td>\n",
       "      <td>1294.449951</td>\n",
       "      <td>1304.430054</td>\n",
       "      <td>1124.342773</td>\n",
       "      <td>1961740.0</td>\n",
       "    </tr>\n",
       "  </tbody>\n",
       "</table>\n",
       "</div>"
      ],
      "text/plain": [
       "         Date    Open         High          Low        Close    Adj Close  \\\n",
       "0  2015-05-26  1302.5  1311.619995  1294.449951  1304.430054  1124.342773   \n",
       "\n",
       "      Volume  \n",
       "0  1961740.0  "
      ]
     },
     "execution_count": 10,
     "metadata": {},
     "output_type": "execute_result"
    }
   ],
   "source": [
    "df[:1]"
   ]
  },
  {
   "cell_type": "code",
   "execution_count": 137,
   "metadata": {},
   "outputs": [
    {
     "name": "stderr",
     "output_type": "stream",
     "text": [
      "C:\\Users\\Phanith Daruvuri\\Anaconda3\\lib\\site-packages\\ipykernel_launcher.py:1: FutureWarning: Method .as_matrix will be removed in a future version. Use .values instead.\n",
      "  \"\"\"Entry point for launching an IPython kernel.\n"
     ]
    }
   ],
   "source": [
    "m=df.as_matrix()"
   ]
  },
  {
   "cell_type": "code",
   "execution_count": 138,
   "metadata": {},
   "outputs": [
    {
     "data": {
      "text/plain": [
       "(1229, 7)"
      ]
     },
     "execution_count": 138,
     "metadata": {},
     "output_type": "execute_result"
    }
   ],
   "source": [
    "m.shape"
   ]
  },
  {
   "cell_type": "code",
   "execution_count": 139,
   "metadata": {},
   "outputs": [
    {
     "data": {
      "text/plain": [
       "(729, 7)"
      ]
     },
     "execution_count": 139,
     "metadata": {},
     "output_type": "execute_result"
    }
   ],
   "source": [
    "m=m[:-500]\n",
    "m.shape"
   ]
  },
  {
   "cell_type": "code",
   "execution_count": 140,
   "metadata": {},
   "outputs": [],
   "source": [
    "closes=m[:,4:5]"
   ]
  },
  {
   "cell_type": "code",
   "execution_count": 141,
   "metadata": {},
   "outputs": [],
   "source": [
    "n=closes.shape[0]"
   ]
  },
  {
   "cell_type": "code",
   "execution_count": 142,
   "metadata": {},
   "outputs": [],
   "source": [
    "closes=closes.reshape(n,)"
   ]
  },
  {
   "cell_type": "code",
   "execution_count": 143,
   "metadata": {},
   "outputs": [
    {
     "data": {
      "text/plain": [
       "array([1304.430054, 1307.619995, 1304.75, 1305.150024, 1308.880005,\n",
       "       1299.949951, 1305.449951, 1302.819946, 1287.930054, 1288.719971,\n",
       "       1280.819946, 1300.380005, 1285.650024, 1252.900024, 1252.400024,\n",
       "       1256.0, 1256.900024, 1265.030029, 1274.780029, 1295.75,\n",
       "       1287.300049, 1285.150024, 1275.0, 1296.400024, 1296.449951,\n",
       "       1275.469971, 1296.550049, 1288.880005, 1301.949951, 1316.650024,\n",
       "       1308.119995, 1297.550049, 1261.25, 1237.180054, 1254.780029,\n",
       "       1249.75, 1272.880005, 1270.099976, 1282.199951, 1289.569946,\n",
       "       1280.699951, 1264.030029, 1244.300049, 1252.569946, 1248.530029,\n",
       "       1251.030029, 1253.380005, 1240.319946, 1255.380005, 1254.800049,\n",
       "       1254.449951, 1273.569946, 1286.650024, 1276.030029, 1286.050049,\n",
       "       1302.099976, 1335.849976, 1317.800049, 1351.599976, 1342.380005,\n",
       "       1370.449951, 1366.800049, 1343.430054, 1338.069946, 1289.319946,\n",
       "       1283.569946, 1288.380005, 1287.319946, 1285.430054, 1282.030029,\n",
       "       1268.699951, 1295.900024, 1302.800049, 1273.719971, 1269.880005,\n",
       "       1270.150024, 1274.880005, 1272.699951, 1276.0, 1275.819946,\n",
       "       1268.619995, 1275.180054, 1275.619995, 1275.530029, 1263.400024,\n",
       "       1266.319946, 1290.199951, 1296.849976, 1294.119995, 1294.030029,\n",
       "       1322.300049, 1355.819946, 1350.0, 1326.969971, 1316.900024,\n",
       "       1314.819946, 1296.300049, 1299.280029, 1241.849976, 1233.880005,\n",
       "       1236.0, 1244.380005, 1263.380005, 1265.0, 1268.569946, 1268.280029,\n",
       "       1265.550049, 1264.550049, 1247.680054, 1247.599976, 1258.680054,\n",
       "       1271.719971, 1266.900024, 1241.319946, 1252.880005, 1235.680054,\n",
       "       1229.069946, 1198.699951, 1187.300049, 1195.280029, 1175.719971,\n",
       "       1181.280029, 1199.180054, 1195.530029, 1183.969971, 1172.780029,\n",
       "       1176.680054, 1186.780029, 1180.949951, 1182.599976, 1175.380005,\n",
       "       1164.199951, 1159.900024, 1164.5, 1183.819946, 1192.280029, 1193.0,\n",
       "       1189.219971, 1187.930054, 1204.199951, 1219.880005, 1208.400024,\n",
       "       1223.199951, 1202.530029, 1212.900024, 1217.119995, 1231.349976,\n",
       "       1227.900024, 1209.150024, 1218.430054, 1208.199951, 1184.800049,\n",
       "       1174.469971, 1190.800049, 1185.619995, 1198.800049, 1181.180054,\n",
       "       1163.530029, 1139.599976, 1139.400024, 1130.550049, 1138.819946,\n",
       "       1139.650024, 1140.050049, 1127.25, 1147.880005, 1152.319946,\n",
       "       1159.880005, 1165.599976, 1195.650024, 1201.349976, 1199.050049,\n",
       "       1208.150024, 1210.030029, 1210.969971, 1181.469971, 1140.699951,\n",
       "       1134.400024, 1098.969971, 1113.300049, 1134.569946, 1132.780029,\n",
       "       1137.780029, 1157.930054, 1159.819946, 1157.949951, 1132.0,\n",
       "       1105.469971, 1106.430054, 1105.25, 1088.400024, 1138.319946,\n",
       "       1159.430054, 1186.569946, 1178.780029, 1177.150024, 1178.619995,\n",
       "       1174.150024, 1182.619995, 1177.5, 1164.949951, 1163.530029,\n",
       "       1176.030029, 1212.930054, 1223.119995, 1236.550049, 1236.900024,\n",
       "       1236.699951, 1234.699951, 1244.75, 1260.150024, 1226.949951,\n",
       "       1235.619995, 1231.380005, 1240.949951, 1235.400024, 1216.030029,\n",
       "       1253.319946, 1259.069946, 1263.099976, 1259.880005, 1225.180054,\n",
       "       1212.199951, 1208.530029, 1225.619995, 1244.900024, 1255.550049,\n",
       "       1263.880005, 1267.75, 1263.349976, 1239.050049, 1239.0,\n",
       "       1235.150024, 1236.699951, 1256.280029, 1261.449951, 1259.150024,\n",
       "       1283.099976, 1261.699951, 1275.569946, 1285.099976, 1275.550049,\n",
       "       1278.469971, 1264.650024, 1245.719971, 1233.849976, 1263.219971,\n",
       "       1274.349976, 1286.319946, 1318.199951, 1284.699951, 1316.780029,\n",
       "       1325.069946, 1314.780029, 1306.25, 1315.569946, 1306.550049,\n",
       "       1288.619995, 1277.880005, 1273.5, 1267.430054, 1278.430054,\n",
       "       1279.150024, 1301.300049, 1329.650024, 1325.599976, 1333.819946,\n",
       "       1322.680054, 1286.969971, 1247.930054, 1231.969971, 1251.449951,\n",
       "       1276.550049, 1250.430054, 1247.099976, 1242.650024, 1214.900024,\n",
       "       1213.300049, 1232.069946, 1232.469971, 1246.550049, 1260.949951,\n",
       "       1222.680054, 1216.719971, 1233.099976, 1247.469971, 1253.030029,\n",
       "       1257.550049, 1279.469971, 1276.300049, 1288.780029, 1309.619995,\n",
       "       1309.650024, 1354.119995, 1349.599976, 1328.150024, 1326.0,\n",
       "       1324.550049, 1324.75, 1325.099976, 1337.699951, 1354.949951,\n",
       "       1369.219971, 1345.849976, 1312.280029, 1319.280029, 1301.75,\n",
       "       1274.349976, 1300.530029, 1286.030029, 1275.530029, 1262.469971,\n",
       "       1250.280029, 1272.069946, 1255.650024, 1253.75, 1257.400024,\n",
       "       1242.030029, 1220.280029, 1161.050049, 1176.219971, 1179.530029,\n",
       "       1164.219971, 1163.469971, 1180.849976, 1205.719971, 1203.25,\n",
       "       1206.699951, 1189.0, 1199.050049, 1200.550049, 1218.050049,\n",
       "       1211.530029, 1218.900024, 1215.400024, 1205.849976, 1202.569946,\n",
       "       1193.180054, 1194.380005, 1183.900024, 1190.150024, 1164.449951,\n",
       "       1183.099976, 1181.219971, 1200.099976, 1197.550049, 1200.569946,\n",
       "       1214.319946, 1213.849976, 1199.219971, 1198.119995, 1209.050049,\n",
       "       1199.349976, 1175.0, 1152.030029, 1159.719971, 1165.280029,\n",
       "       1138.530029, 1141.599976, 1084.930054, 1077.719971, 1050.569946,\n",
       "       1060.650024, 1094.800049, 1068.599976, 1062.550049, 1066.449951,\n",
       "       1067.5, 1078.180054, 1094.219971, 1150.180054, 1141.300049,\n",
       "       1129.930054, 1138.030029, 1131.719971, 1110.930054, 1093.0,\n",
       "       1091.180054, 1077.280029, 1097.880005, 1097.619995, 1104.099976,\n",
       "       1100.150024, 1103.800049, 1129.650024, 1141.319946, 1144.449951,\n",
       "       1169.650024, 1156.800049, 1153.849976, 1144.050049, 1146.550049,\n",
       "       1161.699951, 1156.699951, 1175.849976, 1182.780029, 1180.680054,\n",
       "       1184.119995, 1189.75, 1167.199951, 1140.699951, 1151.849976,\n",
       "       1157.680054, 1162.199951, 1172.180054, 1124.650024, 1129.280029,\n",
       "       1139.380005, 1147.550049, 1145.5, 1142.680054, 1153.349976,\n",
       "       1159.180054, 1176.5, 1178.900024, 1166.449951, 1114.900024,\n",
       "       1083.949951, 1103.819946, 1116.280029, 1120.380005, 1122.300049,\n",
       "       1135.469971, 1158.650024, 1198.969971, 1207.119995, 1203.119995,\n",
       "       1206.849976, 1223.880005, 1203.949951, 1251.099976, 1232.680054,\n",
       "       1205.75, 1240.900024, 1244.930054, 1233.119995, 1239.780029,\n",
       "       1250.719971, 1247.030029, 1236.25, 1249.900024, 1256.099976,\n",
       "       1259.880005, 1271.119995, 1283.75, 1249.150024, 1260.449951,\n",
       "       1262.880005, 1240.0, 1243.349976, 1239.469971, 1230.180054,\n",
       "       1213.599976, 1206.030029, 1214.969971, 1222.300049, 1220.5,\n",
       "       1215.900024, 1205.849976, 1200.619995, 1200.030029, 1214.530029,\n",
       "       1211.119995, 1209.650024, 1196.619995, 1164.319946, 1157.430054,\n",
       "       1154.400024, 1149.569946, 1162.75, 1155.400024, 1164.050049,\n",
       "       1155.75, 1155.180054, 1151.319946, 1136.569946, 1144.949951,\n",
       "       1168.650024, 1165.050049, 1160.25, 1171.219971, 1176.280029,\n",
       "       1166.219971, 1174.719971, 1180.319946, 1182.550049, 1214.569946,\n",
       "       1227.680054, 1268.099976, 1253.569946, 1265.680054, 1260.849976,\n",
       "       1279.569946, 1312.300049, 1289.119995, 1286.430054, 1275.550049,\n",
       "       1273.300049, 1276.800049, 1282.449951, 1301.969971, 1348.0,\n",
       "       1307.619995, 1260.800049, 1253.5, 1243.599976, 1225.780029,\n",
       "       1235.099976, 1205.599976, 1199.849976, 1215.849976, 1222.5,\n",
       "       1203.150024, 1197.430054, 1180.849976, 1171.430054, 1175.030029,\n",
       "       1166.619995, 1181.180054, 1186.800049, 1183.430054, 1178.0,\n",
       "       1173.780029, 1165.969971, 1217.469971, 1237.900024, 1219.719971,\n",
       "       1223.199951, 1198.719971, 1197.719971, 1204.180054, 1224.800049,\n",
       "       1222.349976, 1245.599976, 1265.349976, 1285.75, 1278.0,\n",
       "       1240.849976, 1242.150024, 1245.900024, 1250.819946, 1236.900024,\n",
       "       1244.719971, 1261.400024, 1251.719971, 1251.530029, 1256.0,\n",
       "       1255.719971, 1248.030029, 1234.699951, 1246.180054, 1242.819946,\n",
       "       1256.900024, 1264.400024, 1248.780029, 1244.719971, 1248.300049,\n",
       "       1243.650024, 1235.430054, 1242.280029, 1248.180054, 1228.219971,\n",
       "       1228.099976, 1242.180054, 1226.599976, 1230.050049, 1235.300049,\n",
       "       1227.219971, 1244.219971, 1244.599976, 1243.469971, 1253.030029,\n",
       "       1249.530029, 1249.119995, 1246.780029, 1262.449951, 1251.800049,\n",
       "       1255.380005, 1237.319946, 1247.5, 1238.219971, 1217.969971,\n",
       "       1224.219971, 1221.150024, 1214.800049, 1223.319946, 1227.050049,\n",
       "       1229.619995, 1250.180054, 1274.099976, 1279.300049, 1292.199951,\n",
       "       1297.280029, 1293.300049, 1291.949951, 1293.949951, 1289.199951,\n",
       "       1279.949951, 1269.430054, 1292.150024, 1308.099976, 1312.0,\n",
       "       1301.430054, 1313.069946, 1310.050049, 1332.780029, 1355.030029,\n",
       "       1367.5, 1368.199951, 1354.380005, 1379.469971, 1357.300049,\n",
       "       1352.650024, 1373.319946, 1353.650024, 1351.719971, 1336.469971,\n",
       "       1340.319946, 1340.619995, 1344.030029, 1342.930054, 1342.650024,\n",
       "       1329.069946, 1318.5, 1314.969971, 1316.180054, 1317.780029,\n",
       "       1316.650024, 1308.619995, 1300.75, 1330.550049, 1306.069946,\n",
       "       1314.199951, 1278.900024, 1272.800049, 1290.25, 1287.650024,\n",
       "       1294.469971, 1297.849976, 1323.380005, 1324.719971, 1309.949951,\n",
       "       1313.469971, 1350.599976, 1322.800049, 1315.599976, 1319.319946,\n",
       "       1328.550049, 1344.599976, 1357.199951, 1354.5, 1403.300049,\n",
       "       1395.25, 1388.180054, 1373.050049, 1425.430054, 1444.469971,\n",
       "       1459.099976, 1479.650024, 1558.199951, 1551.0, 1587.300049,\n",
       "       1560.530029, 1599.430054, 1576.430054, 1556.180054, 1569.300049,\n",
       "       1576.819946, 1551.599976, 1498.619995, 1477.530029, 1487.099976,\n",
       "       1485.849976, 1483.650024, 1455.900024, 1462.930054, 1466.530029,\n",
       "       1461.800049, 1472.380005, 1521.150024, 1525.099976, 1537.900024,\n",
       "       1515.849976, 1521.180054, 1517.530029, 1518.849976, 1552.930054,\n",
       "       1521.400024, 1513.719971, 1501.969971, 1517.050049, 1526.069946,\n",
       "       1443.400024, 1443.449951, 1434.849976, 1412.849976, 1415.5,\n",
       "       1432.430054, 1428.380005, 1415.680054, 1409.069946, 1408.5,\n",
       "       1423.849976, 1424.569946, 1454.819946, 1455.619995, 1455.449951,\n",
       "       1478.969971, 1475.150024, 1461.949951, 1468.800049, 1507.069946,\n",
       "       1569.619995, 1576.650024, 1593.819946, 1583.300049, 1579.550049,\n",
       "       1595.569946, 1701.219971, 1704.319946, 1692.819946, 1735.119995,\n",
       "       1769.619995, 1725.969971, 1766.050049, 1749.880005, 1740.930054,\n",
       "       1740.380005, 1710.469971], dtype=object)"
      ]
     },
     "execution_count": 143,
     "metadata": {},
     "output_type": "execute_result"
    }
   ],
   "source": [
    "closes"
   ]
  },
  {
   "cell_type": "code",
   "execution_count": 144,
   "metadata": {},
   "outputs": [
    {
     "data": {
      "text/plain": [
       "729"
      ]
     },
     "execution_count": 144,
     "metadata": {},
     "output_type": "execute_result"
    }
   ],
   "source": [
    "len(closes)"
   ]
  },
  {
   "cell_type": "code",
   "execution_count": 152,
   "metadata": {},
   "outputs": [],
   "source": [
    "moving_avgs=[]\n",
    "ma=0\n",
    "count=0\n",
    "for i in range(n):\n",
    "    ma+=closes[i]\n",
    "    count+=1\n",
    "    if(count==5):\n",
    "        moving_avgs.append(ma)\n",
    "        count=0\n",
    "        ma=0\n",
    "if(count>0):\n",
    "    moving_avgs.append(ma/count)\n",
    "else:\n",
    "    moving_avgs[len(moving_avgs)-1]/=5\n",
    "for i in range(len(moving_avgs)-1):\n",
    "    moving_avgs[i]/=5"
   ]
  },
  {
   "cell_type": "code",
   "execution_count": 153,
   "metadata": {},
   "outputs": [],
   "source": [
    "t=len(moving_avgs)"
   ]
  },
  {
   "cell_type": "code",
   "execution_count": 154,
   "metadata": {},
   "outputs": [
    {
     "data": {
      "text/plain": [
       "[<matplotlib.lines.Line2D at 0x226464ed788>]"
      ]
     },
     "execution_count": 154,
     "metadata": {},
     "output_type": "execute_result"
    },
    {
     "data": {
      "image/png": "[encoded data removed]",
      "text/plain": [
       "<Figure size 432x288 with 1 Axes>"
      ]
     },
     "metadata": {
      "needs_background": "light"
     },
     "output_type": "display_data"
    }
   ],
   "source": [
    "a=np.asarray(moving_avgs)\n",
    "plt.plot(a)"
   ]
  },
  {
   "cell_type": "code",
   "execution_count": 155,
   "metadata": {},
   "outputs": [
    {
     "data": {
      "text/plain": [
       "[1306.1660156,\n",
       " 1296.9739746,\n",
       " 1274.4300046,\n",
       " 1269.6920163999998,\n",
       " 1288.0600096000003,\n",
       " 1295.9,\n",
       " 1271.7760254,\n",
       " 1272.8999756,\n",
       " 1258.0260008,\n",
       " 1250.9820068000001,\n",
       " 1275.3499998,\n",
       " 1329.9459964,\n",
       " 1341.6139891999999,\n",
       " 1285.345996,\n",
       " 1282.2,\n",
       " 1273.9099852,\n",
       " 1271.6700194,\n",
       " 1288.3039794000001,\n",
       " 1334.397998,\n",
       " 1277.226001,\n",
       " 1255.4659912,\n",
       " 1258.7320314,\n",
       " 1258.3,\n",
       " 1209.2060058,\n",
       " 1187.1360108000001,\n",
       " 1179.9580078,\n",
       " 1169.5599852,\n",
       " 1193.3260010000001,\n",
       " 1213.3820066,\n",
       " 1220.7900146,\n",
       " 1188.778003,\n",
       " 1164.5020264,\n",
       " 1135.2640136,\n",
       " 1164.2659912,\n",
       " 1205.9100098,\n",
       " 1133.7679931999999,\n",
       " 1144.5760008000002,\n",
       " 1121.4199952,\n",
       " 1150.2999998,\n",
       " 1178.0080076,\n",
       " 1188.1120116,\n",
       " 1237.919995,\n",
       " 1239.0099851999998,\n",
       " 1245.3839842000002,\n",
       " 1226.2820067999999,\n",
       " 1259.0860108000002,\n",
       " 1241.2360106,\n",
       " 1268.1939696000002,\n",
       " 1269.8979982,\n",
       " 1275.187964,\n",
       " 1309.515991,\n",
       " 1292.423999,\n",
       " 1291.1920409999998,\n",
       " 1303.4000002,\n",
       " 1251.5000002000002,\n",
       " 1227.0780028000001,\n",
       " 1236.0000002000002,\n",
       " 1262.7640138,\n",
       " 1322.3540037999999,\n",
       " 1325.7100097999999,\n",
       " 1343.9999756000002,\n",
       " 1296.3880126,\n",
       " 1263.1999998,\n",
       " 1226.9020262,\n",
       " 1172.8579836000001,\n",
       " 1200.7439942,\n",
       " 1212.886035,\n",
       " 1195.9760010000002,\n",
       " 1183.8039796,\n",
       " 1205.1019776,\n",
       " 1186.7100097999999,\n",
       " 1138.0120118,\n",
       " 1070.4679932,\n",
       " 1073.780005,\n",
       " 1138.2320314,\n",
       " 1094.0540284,\n",
       " 1107.0640136000002,\n",
       " 1153.2139892,\n",
       " 1156.9699951999999,\n",
       " 1180.9060058,\n",
       " 1156.9219971999999,\n",
       " 1137.2720214,\n",
       " 1162.1220216000002,\n",
       " 1117.0799802000001,\n",
       " 1147.154004,\n",
       " 1208.9839844000003,\n",
       " 1235.0720216000002,\n",
       " 1241.3800048,\n",
       " 1264.15,\n",
       " 1251.1659912,\n",
       " 1220.8500002,\n",
       " 1213.0340087999998,\n",
       " 1206.3900144000002,\n",
       " 1157.693994,\n",
       " 1156.3400146,\n",
       " 1155.093994,\n",
       " 1173.7519776000001,\n",
       " 1229.2939942,\n",
       " 1281.504004,\n",
       " 1278.9060304,\n",
       " 1294.378003,\n",
       " 1221.9859866,\n",
       " 1203.956006,\n",
       " 1176.2120361999998,\n",
       " 1183.7300050000001,\n",
       " 1215.4519776000002,\n",
       " 1232.4560062,\n",
       " 1258.5300048000001,\n",
       " 1249.1119872,\n",
       " 1249.195996,\n",
       " 1251.8160154000002,\n",
       " 1242.8760254000001,\n",
       " 1234.6560062,\n",
       " 1236.2780031999998,\n",
       " 1248.3860106,\n",
       " 1250.8899902,\n",
       " 1223.2719972,\n",
       " 1240.854004,\n",
       " 1290.8060057999999,\n",
       " 1284.9359862000001,\n",
       " 1308.9300049999997,\n",
       " 1355.5780028,\n",
       " 1363.2780028000002,\n",
       " 1342.6319823999997,\n",
       " 1329.6239990000001,\n",
       " 1311.9960204,\n",
       " 1300.5040038,\n",
       " 1298.7199952,\n",
       " 1324.3079836000002,\n",
       " 1333.0539796,\n",
       " 1382.8560303999998,\n",
       " 1473.3699952000002,\n",
       " 1574.9380372,\n",
       " 1550.504004,\n",
       " 1478.0060058000004,\n",
       " 1476.9580321999997,\n",
       " 1523.5120118,\n",
       " 1521.7739992000002,\n",
       " 1472.9639892,\n",
       " 1420.9680177999999,\n",
       " 1424.1619628,\n",
       " 1465.4279784000003,\n",
       " 1543.191992,\n",
       " 1632.7919922,\n",
       " 1737.9159912,\n",
       " 1735.4150087500002]"
      ]
     },
     "execution_count": 155,
     "metadata": {},
     "output_type": "execute_result"
    }
   ],
   "source": [
    "moving_avgs"
   ]
  },
  {
   "cell_type": "code",
   "execution_count": 156,
   "metadata": {},
   "outputs": [],
   "source": [
    "i=t-1\n",
    "j=t-2\n",
    "limitations=0\n",
    "count=0\n",
    "trend=0\n",
    "value=1\n",
    "while True:\n",
    "    if trend==0:\n",
    "        if moving_avgs[i]-moving_avgs[j]>=5:\n",
    "            trend=1\n",
    "            count+=1\n",
    "        else:\n",
    "            trend=-1\n",
    "            count+=1\n",
    "        i,j=i-1,j-1\n",
    "    elif trend==1:\n",
    "        if moving_avgs[i]-moving_avgs[j]<5:\n",
    "            limitations+=1\n",
    "        count+=1\n",
    "        i,j=i-1,j-1\n",
    "    else:\n",
    "        if moving_avgs[i]-moving_avgs[j]>5:\n",
    "            limitations+=1\n",
    "        count+=1\n",
    "        i,j=i-1,j-1\n",
    "    if(limitations==2):\n",
    "        if(count<=5):\n",
    "            value=0\n",
    "            break\n",
    "    if(count==10):\n",
    "        break"
   ]
  },
  {
   "cell_type": "code",
   "execution_count": 157,
   "metadata": {},
   "outputs": [
    {
     "name": "stdout",
     "output_type": "stream",
     "text": [
      "the values are highly fluctuating\n",
      "it is preferrable not to buy any stocks at this time\n",
      "Prices may fall in the coming days so it is better to sell your shares if you have any\n",
      "estimated resistance price is: [1735.4150087500002]\n"
     ]
    },
    {
     "data": {
      "text/plain": [
       "[<matplotlib.lines.Line2D at 0x2264655d5c8>]"
      ]
     },
     "execution_count": 157,
     "metadata": {},
     "output_type": "execute_result"
    },
    {
     "data": {
      "image/png": "[encoded data removed]",
      "text/plain": [
       "<Figure size 432x288 with 1 Axes>"
      ]
     },
     "metadata": {
      "needs_background": "light"
     },
     "output_type": "display_data"
    }
   ],
   "source": [
    "if(value==0):\n",
    "    print(\"the values are highly fluctuating\")\n",
    "    print(\"it is preferrable not to buy any stocks at this time\")\n",
    "    if(trend==-1):\n",
    "        print(\"Prices may fall in the coming days so it is better to sell your shares if you have any\")\n",
    "        print(\"estimated resistance price is:\",moving_avgs[-1:])\n",
    "else:\n",
    "    if trend==1:\n",
    "        print(\"an up trend is observed\")\n",
    "        print(\"you can buy the shares at support price\")\n",
    "        print(\"estimated support price is:\",moving_avgs[-1:])\n",
    "    else:\n",
    "        print(\"an down trend is observed\")\n",
    "        print(\"It is better to sell your shares if you have any at resistance price\")\n",
    "        print(\"estimated resistance price is:\",moving_avgs[-1:])  \n",
    "plt.plot(a)"
   ]
  },
  {
   "cell_type": "code",
   "execution_count": 158,
   "metadata": {},
   "outputs": [
    {
     "name": "stdout",
     "output_type": "stream",
     "text": [
      "the actual data of next day is ['2018-05-08' 1717.3499760000002 1743.25 1698.3499760000002\n",
      " 1720.5999760000002 1658.213745 2992820.0]\n"
     ]
    },
    {
     "name": "stderr",
     "output_type": "stream",
     "text": [
      "C:\\Users\\Phanith Daruvuri\\Anaconda3\\lib\\site-packages\\ipykernel_launcher.py:1: FutureWarning: Method .as_matrix will be removed in a future version. Use .values instead.\n",
      "  \"\"\"Entry point for launching an IPython kernel.\n"
     ]
    }
   ],
   "source": [
    "m1=df.as_matrix()\n",
    "print(\"the actual data of next day is\",m1[n])"
   ]
  },
  {
   "cell_type": "code",
   "execution_count": null,
   "metadata": {},
   "outputs": [],
   "source": []
  },
  {
   "cell_type": "code",
   "execution_count": null,
   "metadata": {},
   "outputs": [],
   "source": []
  },
  {
   "cell_type": "code",
   "execution_count": null,
   "metadata": {},
   "outputs": [],
   "source": []
  },
  {
   "cell_type": "code",
   "execution_count": null,
   "metadata": {},
   "outputs": [],
   "source": []
  },
  {
   "cell_type": "code",
   "execution_count": null,
   "metadata": {},
   "outputs": [],
   "source": []
  },
  {
   "cell_type": "code",
   "execution_count": null,
   "metadata": {},
   "outputs": [],
   "source": []
  },
  {
   "cell_type": "code",
   "execution_count": null,
   "metadata": {},
   "outputs": [],
   "source": []
  },
  {
   "cell_type": "code",
   "execution_count": null,
   "metadata": {},
   "outputs": [],
   "source": []
  },
  {
   "cell_type": "code",
   "execution_count": null,
   "metadata": {},
   "outputs": [],
   "source": []
  },
  {
   "cell_type": "code",
   "execution_count": null,
   "metadata": {},
   "outputs": [],
   "source": []
  },
  {
   "cell_type": "code",
   "execution_count": null,
   "metadata": {},
   "outputs": [],
   "source": []
  },
  {
   "cell_type": "code",
   "execution_count": null,
   "metadata": {},
   "outputs": [],
   "source": []
  },
  {
   "cell_type": "code",
   "execution_count": null,
   "metadata": {},
   "outputs": [],
   "source": []
  },
  {
   "cell_type": "code",
   "execution_count": null,
   "metadata": {},
   "outputs": [],
   "source": []
  },
  {
   "cell_type": "code",
   "execution_count": 204,
   "metadata": {},
   "outputs": [
    {
     "data": {
      "text/plain": [
       "numpy.ndarray"
      ]
     },
     "execution_count": 204,
     "metadata": {},
     "output_type": "execute_result"
    }
   ],
   "source": [
    "x=np.linspace(0,37,37)\n",
    "type(x)"
   ]
  },
  {
   "cell_type": "code",
   "execution_count": 216,
   "metadata": {},
   "outputs": [
    {
     "name": "stderr",
     "output_type": "stream",
     "text": [
      "C:\\Users\\Phanith Daruvuri\\Anaconda3\\lib\\site-packages\\ipykernel_launcher.py:1: RankWarning: Polyfit may be poorly conditioned\n",
      "  \"\"\"Entry point for launching an IPython kernel.\n"
     ]
    },
    {
     "data": {
      "text/plain": [
       "[<matplotlib.lines.Line2D at 0x1cc81f71588>]"
      ]
     },
     "execution_count": 216,
     "metadata": {},
     "output_type": "execute_result"
    },
    {
     "data": {
      "image/png": "[encoded data removed]",
      "text/plain": [
       "<Figure size 432x288 with 1 Axes>"
      ]
     },
     "metadata": {
      "needs_background": "light"
     },
     "output_type": "display_data"
    }
   ],
   "source": [
    "z=np.polyfit(x,a,20)\n",
    "plt.plot(z)"
   ]
  },
  {
   "cell_type": "code",
   "execution_count": null,
   "metadata": {},
   "outputs": [],
   "source": []
  },
  {
   "cell_type": "code",
   "execution_count": null,
   "metadata": {},
   "outputs": [],
   "source": []
  }
 ],
 "metadata": {
  "kernelspec": {
   "display_name": "Python 3",
   "language": "python",
   "name": "python3"
  },
  "language_info": {
   "codemirror_mode": {
    "name": "ipython",
    "version": 3
   },
   "file_extension": ".py",
   "mimetype": "text/x-python",
   "name": "python",
   "nbconvert_exporter": "python",
   "pygments_lexer": "ipython3",
   "version": "3.7.6"
  }
 },
 "nbformat": 4,
 "nbformat_minor": 2
}
